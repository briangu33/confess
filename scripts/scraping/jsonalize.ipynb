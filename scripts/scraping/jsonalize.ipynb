{
 "cells": [
  {
   "cell_type": "code",
   "execution_count": 94,
   "metadata": {
    "collapsed": true
   },
   "outputs": [],
   "source": [
    "import pickle"
   ]
  },
  {
   "cell_type": "code",
   "execution_count": 95,
   "metadata": {
    "collapsed": true
   },
   "outputs": [],
   "source": [
    "class Confession:\n",
    "    \n",
    "    def __init__(self, fb_id, timestamp, n_reacts, post_number, full_text):\n",
    "        self.fb_id = fb_id\n",
    "        self.timestamp = timestamp\n",
    "        self.n_reacts = n_reacts\n",
    "        self.post_number = post_number\n",
    "        self.full_text = full_text\n",
    "        \n",
    "    def __str__(self):\n",
    "        return self.fb_id + \"\\n\" + str(self.timestamp) + \"\\n\" + \"reactions: \" + str(self.n_reacts) + \"\\n\" + self.post_number + \"\\n\" + str(self.full_text)\n",
    "        \n",
    "summer_confessions = []\n",
    "timely_confessions = []\n",
    "regular_confessions = []"
   ]
  },
  {
   "cell_type": "code",
   "execution_count": 98,
   "metadata": {},
   "outputs": [],
   "source": [
    "f_summer = open(\"summer/summer_all\", 'rb')\n",
    "f_timely = open(\"timely/timely_all\", 'rb')\n",
    "f_regular = open(\"confessions/confessions_all\", 'rb')\n",
    "\n",
    "summer_confessions = pickle.load(f_summer)\n",
    "timely_confessions = pickle.load(f_timely)\n",
    "regular_confessions = pickle.load(f_regular)\n",
    "\n",
    "f_summer.close()\n",
    "f_timely.close()\n",
    "f_regular.close()"
   ]
  },
  {
   "cell_type": "code",
   "execution_count": 99,
   "metadata": {},
   "outputs": [],
   "source": [
    "class ConfessionForJson():\n",
    "    \n",
    "    def __init__(self, fb_id, timestamp, n_reacts, post_number, full_text, source):\n",
    "        self.source = source\n",
    "        self.timestamp = timestamp.timestamp() # datetime => float (seconds since epoch)\n",
    "        self.text = full_text\n",
    "        self.reactions = n_reacts\n",
    "        self.number = post_number\n",
    "        self.id = fb_id\n",
    "        \n",
    "    def __str__(self):\n",
    "        return str(self.__dict__)"
   ]
  },
  {
   "cell_type": "code",
   "execution_count": 106,
   "metadata": {},
   "outputs": [],
   "source": [
    "def split_by_newline(text_list):\n",
    "    ret = []\n",
    "    for string in text_list:\n",
    "        lst = string.split(\"\\n\")\n",
    "        ret += lst\n",
    "    return ret\n",
    "\n",
    "def clean_text_list(text_list):\n",
    "    text = \"\\n\"\n",
    "    text = text.join(split_by_newline(text_list))\n",
    "    if len(text) < 2 or text[0] != \"#\" or not text[1].isdigit():\n",
    "        raise ValueError(\"not a confession post: \\n\" + text)\n",
    "    index = text.find(\" \")\n",
    "    if index == -1:\n",
    "        index = text.find(\"\\n\")\n",
    "    return text[index:].strip().split(\"\\n\") # remove conf #, remove trailing and leading whitespace, split by \\n\n",
    "\n",
    "def convert_confession(confession, source):\n",
    "    text = clean_text_list(confession.full_text)\n",
    "    confession_for_json = ConfessionForJson(confession.fb_id, confession.timestamp, confession.n_reacts, confession.post_number, text, source)\n",
    "    return confession_for_json.__dict__"
   ]
  },
  {
   "cell_type": "code",
   "execution_count": 107,
   "metadata": {},
   "outputs": [
    {
     "name": "stdout",
     "output_type": "stream",
     "text": [
      "{'source': 'mit summer confessions', 'timestamp': 1535777789.0, 'text': ['Chittery monkey', 'In the spring he climbs treetops', 'And thinks himself tall'], 'reactions': 3, 'number': '#2426', 'id': '313429562547241'}\n"
     ]
    }
   ],
   "source": [
    "print(convert_confession(summer_confessions[38], \"mit summer confessions\"))"
   ]
  },
  {
   "cell_type": "code",
   "execution_count": 108,
   "metadata": {},
   "outputs": [
    {
     "name": "stdout",
     "output_type": "stream",
     "text": [
      "('not a confession post: \\nYou miss MIT confessions over the summer? We do too!\\nMIT Summer Confessions is comMITed to posting your confessions over summer.\\nGet posting so we can bring the good old confessions back over summer :)\\nhttps://goo.gl/forms/w2CtAic4kYjY88l03',)\n",
      "('not a confession post: \\nHello! As our name implies, we plan on only doing confessions over the summer. So our last night of posting confessions for the year will be Monday (9/3). We plan on doing analytics on the data for this page as well once the last confessions have been posted. Please ask any questions you may have about the page, process, behind the scenes, data, or anything else. It has been a pleasure!',)\n",
      "(\"not a confession post: \\ncouldn't find post\",)\n",
      "(\"not a confession post: \\ncouldn't find post\",)\n",
      "(\"not a confession post: \\ncouldn't find post\",)\n",
      "(\"not a confession post: \\ncouldn't find post\",)\n",
      "(\"not a confession post: \\ncouldn't find post\",)\n",
      "(\"not a confession post: \\ncouldn't find post\",)\n",
      "(\"not a confession post: \\ncouldn't find post\",)\n",
      "(\"not a confession post: \\ncouldn't find post\",)\n",
      "(\"not a confession post: \\ncouldn't find post\",)\n",
      "(\"not a confession post: \\ncouldn't find post\",)\n",
      "(\"not a confession post: \\ncouldn't find post\",)\n",
      "(\"not a confession post: \\nPSA\\nHi everyone! We decided to take a break for the summer after today. We’ve had an incredible journey this year. Along the way, we’ve learned how to help create a place for the MIT community, but also made mistakes from time to time. We will learn from our mistakes and do better when we come back from our break. Thank you for your patience and understanding!\\nWe hope you all have a great summer! To those who are graduating, congratulations! We’ll see you all in the Fall, on the first day of classes.\\nSincerely,\\nMIT Timely Confessions\\nP.S. In case you're wondering why there were two additional posts after this PSA, these were submitted between the time we posted confessions and made the PSA. We decided to post these to be fair.\",)\n",
      "('not a confession post: \\nPSA from an MIT administrator:\\nWe are worried about post #7065. If this is from you, please reach out to help. You can also contact the resources below or the National Suicide Prevention Lifeline at 1-800-273-8255.\\nMental Health and Counseling: Working with students to identify, understand, and solve problems, and to help transform that understanding into positive action. The mental health clinician on call is available by calling 617-253-4481, E23\\nStudent Support Services: An easily accessible hub of support for undergraduates. 617-253-4861, 5-104\\nOffice of Graduate Education: the Institute-wide support resource for graduate students and graduate administrators. 617-253-9464, 3-138\\nMIT Chaplains: Offering support to members of numerous world faith traditions. 617-253-7707, W11\\nDean on Call: Dial 100 from campus phones or 617-253-1212 to reach MIT Police, then ask to speak to the Dean on Call. Dean on Call is available Monday through Friday, 5 pm – 9 am, and on Saturdays, Sundays, and on MIT-observed holidays.',)\n",
      "(\"not a confession post: \\ncouldn't find post\",)\n",
      "(\"not a confession post: \\ncouldn't find post\",)\n",
      "(\"not a confession post: \\ncouldn't find post\",)\n",
      "(\"not a confession post: \\ncouldn't find post\",)\n",
      "(\"not a confession post: \\ncouldn't find post\",)\n",
      "(\"not a confession post: \\ncouldn't find post\",)\n",
      "(\"not a confession post: \\ncouldn't find post\",)\n",
      "(\"not a confession post: \\ncouldn't find post\",)\n",
      "(\"not a confession post: \\ncouldn't find post\",)\n",
      "(\"not a confession post: \\ncouldn't find post\",)\n",
      "(\"not a confession post: \\ncouldn't find post\",)\n",
      "(\"not a confession post: \\ncouldn't find post\",)\n",
      "(\"not a confession post: \\ncouldn't find post\",)\n",
      "(\"not a confession post: \\ncouldn't find post\",)\n",
      "(\"not a confession post: \\ncouldn't find post\",)\n",
      "(\"not a confession post: \\ncouldn't find post\",)\n",
      "(\"not a confession post: \\ncouldn't find post\",)\n",
      "(\"not a confession post: \\ncouldn't find post\",)\n",
      "(\"not a confession post: \\ncouldn't find post\",)\n",
      "(\"not a confession post: \\ncouldn't find post\",)\n",
      "(\"not a confession post: \\ncouldn't find post\",)\n",
      "('not a confession post: \\nYou miss MIT confessions? We do too!\\nMIT Timely Confessions is comMITed to posting your confessions in a timely manner.\\nGet posting so we can bring the good old confessions back :)\\nhttps://goo.gl/forms/8ytvvhnFZ3JHTjL73',)\n",
      "('not a confession post: \\nGET TO POSTING!\\n(New form by the way, confessions submitted recently on the old form will be moved over)\\nhttps://goo.gl/forms/pUJWtmCtftAESwc53',)\n",
      "('not a confession post: \\n',)\n",
      "(\"not a confession post: \\nA rather (un)timely reveal on the first day of classes for the 2018-2019 year. It was an honor and a privilege to be able to run this page for the past few years. We are all so lucky to be, and have been, surrounded by the brightest minds in the world. You all have the power to change the world by being the best you and continuing to nurture each other. Good luck to all of you who have entered the real world. And to those of you who are entering now... enjoy every second of the ride. You'll never have an opportunity to do what you're doing now, surrounded by so many incredible people. LOVE YOU ALL! This account is in good hands now.\\nSean Noriega\",)\n",
      "(\"not a confession post: \\ncouldn't find post\",)\n",
      "(\"not a confession post: \\nGood luck to everyone beginning finals week tomorrow. Finishing strong isn't always easy, but we all possess the tools and passion to succeed. You are all amazing.\\nAnd to the seniors, congratulations on making it through. It is a feat we often downplay here. Enjoy the last few weeks.\",)\n",
      "(\"not a confession post: \\ncouldn't find post\",)\n",
      "(\"not a confession post: \\nSome asshole decided to spam the form with a bot that is filling it up with tens of thousands of responses. I will make a new one now. This is why we can't have nice things. Still funny doe.\",)\n",
      "('not a confession post: \\nCONFESSIONS IS BACK\\nGET TO POSTING',)\n"
     ]
    }
   ],
   "source": [
    "all_confessions = []\n",
    "\n",
    "for confession in summer_confessions:\n",
    "    try:\n",
    "        converted = convert_confession(confession, \"mit summer confessions\")\n",
    "        all_confessions.append(converted)\n",
    "    except ValueError as err:\n",
    "        (print(err.args))\n",
    "        \n",
    "for confession in timely_confessions:\n",
    "    try:\n",
    "        converted = convert_confession(confession, \"mit timely confessions\")\n",
    "        all_confessions.append(converted)\n",
    "    except ValueError as err:\n",
    "        (print(err.args))\n",
    "        \n",
    "for confession in regular_confessions:\n",
    "    try:\n",
    "        converted = convert_confession(confession, \"mit confessions\")\n",
    "        all_confessions.append(converted)\n",
    "    except ValueError as err:\n",
    "        (print(err.args))"
   ]
  },
  {
   "cell_type": "code",
   "execution_count": 109,
   "metadata": {},
   "outputs": [],
   "source": [
    "import json\n",
    "\n",
    "with open('all.json', 'w') as outfile:\n",
    "    json.dump(all_confessions, outfile, sort_keys=True, indent=4)\n",
    "outfile.close()"
   ]
  },
  {
   "cell_type": "code",
   "execution_count": null,
   "metadata": {
    "collapsed": true
   },
   "outputs": [],
   "source": []
  }
 ],
 "metadata": {
  "kernelspec": {
   "display_name": "Python 3",
   "language": "python",
   "name": "python3"
  },
  "language_info": {
   "codemirror_mode": {
    "name": "ipython",
    "version": 3
   },
   "file_extension": ".py",
   "mimetype": "text/x-python",
   "name": "python",
   "nbconvert_exporter": "python",
   "pygments_lexer": "ipython3",
   "version": "3.6.1"
  }
 },
 "nbformat": 4,
 "nbformat_minor": 2
}
